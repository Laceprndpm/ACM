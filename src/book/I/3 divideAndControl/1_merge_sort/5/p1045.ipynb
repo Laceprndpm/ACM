{
 "cells": [
  {
   "cell_type": "code",
   "execution_count": null,
   "metadata": {},
   "outputs": [
    {
     "name": "stdout",
     "output_type": "stream",
     "text": [
      "2\n",
      "00000000000000000000000000000000000000000000000000\n",
      "00000000000000000000000000000000000000000000000000\n",
      "00000000000000000000000000000000000000000000000000\n",
      "00000000000000000000000000000000000000000000000000\n",
      "00000000000000000000000000000000000000000000000000\n",
      "00000000000000000000000000000000000000000000000000\n",
      "00000000000000000000000000000000000000000000000000\n",
      "00000000000000000000000000000000000000000000000000\n",
      "00000000000000000000000000000000000000000000000000\n",
      "00000000000000000000000000000000000000000000000015\n"
     ]
    }
   ],
   "source": [
    "import math\n",
    "p = int(input())\n",
    "mod = \"1\"\n",
    "for _ in range(500):\n",
    "    mod = mod + \"0\"\n",
    "ans = pow(2, p, int(mod)) - 1\n",
    "print(int(p * math.log10(2)) + 1)\n",
    "ans = str(ans)\n",
    "ans = mod + ans\n",
    "for i in range(-500, 0, 50):\n",
    "    if (i != -50):\n",
    "        print(ans[i:i + 50:1])\n",
    "    else:\n",
    "        print(ans[i::1])"
   ]
  },
  {
   "cell_type": "code",
   "execution_count": null,
   "metadata": {},
   "outputs": [],
   "source": []
  }
 ],
 "metadata": {
  "kernelspec": {
   "display_name": "codeforce",
   "language": "python",
   "name": "python3"
  },
  "language_info": {
   "codemirror_mode": {
    "name": "ipython",
    "version": 3
   },
   "file_extension": ".py",
   "mimetype": "text/x-python",
   "name": "python",
   "nbconvert_exporter": "python",
   "pygments_lexer": "ipython3",
   "version": "3.8.10"
  }
 },
 "nbformat": 4,
 "nbformat_minor": 2
}
