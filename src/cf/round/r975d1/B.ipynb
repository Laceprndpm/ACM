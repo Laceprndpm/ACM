{
 "cells": [
  {
   "cell_type": "code",
   "execution_count": 2,
   "id": "58959f2a",
   "metadata": {},
   "outputs": [
    {
     "ename": "ValueError",
     "evalue": "invalid literal for int() with base 10: '3 6 6 3 3 3 5 5 6 5 6 4 1 4 5 9 8 6 4 2 1 3 5 7 9'",
     "output_type": "error",
     "traceback": [
      "\u001b[0;31m---------------------------------------------------------------------------\u001b[0m",
      "\u001b[0;31mValueError\u001b[0m                                Traceback (most recent call last)",
      "Cell \u001b[0;32mIn[2], line 33\u001b[0m\n\u001b[1;32m     29\u001b[0m     ans \u001b[38;5;241m=\u001b[39m f\u001b[38;5;241m.\u001b[39mcount(n)\n\u001b[1;32m     30\u001b[0m     \u001b[38;5;28mprint\u001b[39m(ans)\n\u001b[0;32m---> 33\u001b[0m t \u001b[38;5;241m=\u001b[39m \u001b[38;5;28;43mint\u001b[39;49m\u001b[43m(\u001b[49m\u001b[38;5;28;43minput\u001b[39;49m\u001b[43m(\u001b[49m\u001b[43m)\u001b[49m\u001b[43m)\u001b[49m\n\u001b[1;32m     34\u001b[0m \u001b[38;5;28;01mfor\u001b[39;00m _ \u001b[38;5;129;01min\u001b[39;00m \u001b[38;5;28mrange\u001b[39m(t):\n\u001b[1;32m     35\u001b[0m     solve()\n",
      "\u001b[0;31mValueError\u001b[0m: invalid literal for int() with base 10: '3 6 6 3 3 3 5 5 6 5 6 4 1 4 5 9 8 6 4 2 1 3 5 7 9'"
     ]
    }
   ],
   "source": [
    "def solve():\n",
    "    n = int(input())\n",
    "    a = list(map(int, input().split()))\n",
    "    \n",
    "    l = [n] * (n + 1)  # l[x] = 最左出现位置\n",
    "    r = [0] * (n + 1) # r[x] = 最右出现位置\n",
    "\n",
    "    for i in range(n + 1):\n",
    "        l[a[i]] = min(l[a[i]], i)\n",
    "        r[a[i]] = max(r[a[i]], i)\n",
    "\n",
    "    L, R = n, 0\n",
    "    f = [0] * (n + 1)  # 差分数组，最终统计满足条件的起点数量\n",
    "\n",
    "    for i in range(n):\n",
    "        L = min(L, l[i])\n",
    "        R = max(R, r[i])\n",
    "        if R - L <= i:\n",
    "            left = max(0, R - i)\n",
    "            right = min(n - 1, L + i)\n",
    "            f[left] += 1\n",
    "            if right < n - 1:\n",
    "                f[right + 1] -= 1\n",
    "        else:\n",
    "            break\n",
    "    for i in range(1, n + 1):\n",
    "        f[i] += f[i - 1]\n",
    "\n",
    "    ans = f.count(n)\n",
    "    print(ans)\n",
    "\n",
    "\n",
    "t = int(input())\n",
    "for _ in range(t):\n",
    "    solve()\n"
   ]
  },
  {
   "cell_type": "code",
   "execution_count": null,
   "id": "386c6ec5",
   "metadata": {},
   "outputs": [],
   "source": []
  }
 ],
 "metadata": {
  "kernelspec": {
   "display_name": "codeforce",
   "language": "python",
   "name": "python3"
  },
  "language_info": {
   "codemirror_mode": {
    "name": "ipython",
    "version": 3
   },
   "file_extension": ".py",
   "mimetype": "text/x-python",
   "name": "python",
   "nbconvert_exporter": "python",
   "pygments_lexer": "ipython3",
   "version": "3.8.10"
  }
 },
 "nbformat": 4,
 "nbformat_minor": 5
}
