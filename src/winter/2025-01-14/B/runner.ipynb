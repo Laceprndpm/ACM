{
 "cells": [
  {
   "cell_type": "code",
   "execution_count": 7,
   "metadata": {},
   "outputs": [
    {
     "name": "stdout",
     "output_type": "stream",
     "text": [
      "ans = 7\n",
      "3\n",
      "\n",
      "1 times\n",
      "ans = 4\n",
      "43\n",
      "\n",
      "2 times\n",
      "Mismatch detected for input:\n",
      "4 10\n",
      "8 9 8 8 \n",
      "2 2 3\n",
      "1 1 4\n",
      "3 1 3\n",
      "3 3 4\n",
      "2 1 4\n",
      "4 2 3\n",
      "2 2 3\n",
      "1 2 3\n",
      "1 2 4\n",
      "2 4 4\n",
      "\n",
      "\n",
      "\n",
      "A.exe Output: -8\n",
      "\n",
      "B.exe Output: 0\n",
      "\n"
     ]
    },
    {
     "ename": "Exception",
     "evalue": "Catch BUG",
     "output_type": "error",
     "traceback": [
      "\u001b[1;31m---------------------------------------------------------------------------\u001b[0m",
      "\u001b[1;31mException\u001b[0m                                 Traceback (most recent call last)",
      "Cell \u001b[1;32mIn[7], line 51\u001b[0m\n\u001b[0;32m     49\u001b[0m \u001b[38;5;28;01mif\u001b[39;00m \u001b[38;5;28mlen\u001b[39m(programs) \u001b[38;5;241m!=\u001b[39m \u001b[38;5;241m2\u001b[39m:\n\u001b[0;32m     50\u001b[0m     \u001b[38;5;28;01mraise\u001b[39;00m \u001b[38;5;167;01mException\u001b[39;00m(\u001b[38;5;124m\"\u001b[39m\u001b[38;5;124mprograms != 2\u001b[39m\u001b[38;5;124m\"\u001b[39m)\n\u001b[1;32m---> 51\u001b[0m \u001b[43msingle_thread_execution\u001b[49m\u001b[43m(\u001b[49m\u001b[43mprograms\u001b[49m\u001b[43m,\u001b[49m\u001b[43m \u001b[49m\u001b[43mnum_tests\u001b[49m\u001b[38;5;241;43m=\u001b[39;49m\u001b[38;5;241;43m1000\u001b[39;49m\u001b[43m)\u001b[49m  \u001b[38;5;66;03m# 启动 10 个测试用例\u001b[39;00m\n",
      "Cell \u001b[1;32mIn[7], line 40\u001b[0m, in \u001b[0;36msingle_thread_execution\u001b[1;34m(programs, num_tests)\u001b[0m\n\u001b[0;32m     38\u001b[0m     \u001b[38;5;28;01mbreak\u001b[39;00m\n\u001b[0;32m     39\u001b[0m \u001b[38;5;66;03m# 比较并保存输出\u001b[39;00m\n\u001b[1;32m---> 40\u001b[0m \u001b[43mcompare_and_save_outputs\u001b[49m\u001b[43m(\u001b[49m\u001b[43minput_data\u001b[49m\u001b[43m,\u001b[49m\u001b[43m \u001b[49m\u001b[43moutput_A\u001b[49m\u001b[43m,\u001b[49m\u001b[43m \u001b[49m\u001b[43moutput_B\u001b[49m\u001b[43m)\u001b[49m\n\u001b[0;32m     42\u001b[0m count \u001b[38;5;241m+\u001b[39m\u001b[38;5;241m=\u001b[39m \u001b[38;5;241m1\u001b[39m\n\u001b[0;32m     43\u001b[0m \u001b[38;5;28mprint\u001b[39m(\u001b[38;5;28mstr\u001b[39m(count)\u001b[38;5;241m+\u001b[39m\u001b[38;5;124m\"\u001b[39m\u001b[38;5;124m times\u001b[39m\u001b[38;5;124m\"\u001b[39m)\n",
      "Cell \u001b[1;32mIn[7], line 22\u001b[0m, in \u001b[0;36mcompare_and_save_outputs\u001b[1;34m(input_data, output_A, output_B)\u001b[0m\n\u001b[0;32m     20\u001b[0m         f\u001b[38;5;241m.\u001b[39mwrite(\u001b[38;5;124mf\u001b[39m\u001b[38;5;124m\"\u001b[39m\u001b[38;5;124mA.exe Output:\u001b[39m\u001b[38;5;130;01m\\n\u001b[39;00m\u001b[38;5;132;01m{\u001b[39;00moutput_A\u001b[38;5;132;01m}\u001b[39;00m\u001b[38;5;130;01m\\n\u001b[39;00m\u001b[38;5;124m\"\u001b[39m)\n\u001b[0;32m     21\u001b[0m         f\u001b[38;5;241m.\u001b[39mwrite(\u001b[38;5;124mf\u001b[39m\u001b[38;5;124m\"\u001b[39m\u001b[38;5;124mB.exe Output:\u001b[39m\u001b[38;5;130;01m\\n\u001b[39;00m\u001b[38;5;132;01m{\u001b[39;00moutput_B\u001b[38;5;132;01m}\u001b[39;00m\u001b[38;5;130;01m\\n\u001b[39;00m\u001b[38;5;130;01m\\n\u001b[39;00m\u001b[38;5;124m\"\u001b[39m)\n\u001b[1;32m---> 22\u001b[0m     \u001b[38;5;28;01mraise\u001b[39;00m \u001b[38;5;167;01mException\u001b[39;00m(\u001b[38;5;124m\"\u001b[39m\u001b[38;5;124mCatch BUG\u001b[39m\u001b[38;5;124m\"\u001b[39m)\n\u001b[0;32m     23\u001b[0m \u001b[38;5;28;01melse\u001b[39;00m:\n\u001b[0;32m     24\u001b[0m     \u001b[38;5;28mprint\u001b[39m(\u001b[38;5;124mf\u001b[39m\u001b[38;5;124m\"\u001b[39m\u001b[38;5;124mans = \u001b[39m\u001b[38;5;132;01m{\u001b[39;00moutput_A\u001b[38;5;132;01m}\u001b[39;00m\u001b[38;5;124m\"\u001b[39m)\n",
      "\u001b[1;31mException\u001b[0m: Catch BUG"
     ]
    }
   ],
   "source": [
    "from pathlib import Path\n",
    "import subprocess\n",
    "import random\n",
    "# 启动外部程序 C 生成输入数据\n",
    "def generate_input_from_C():\n",
    "    result = subprocess.run([r\"G\\release.exe\", str(random.randint(1, 100))], check=True, capture_output=True, text=True)\n",
    "    return result.stdout  # 保留换行符，原始输出\n",
    "\n",
    "def run_program(program, input_data):\n",
    "    result = subprocess.run([program], input=input_data, capture_output=True, text=True, check=True, timeout=5)\n",
    "    return result.stdout\n",
    "\n",
    "def compare_and_save_outputs(input_data, output_A, output_B):\n",
    "    if output_A != output_B:\n",
    "        print(f\"Mismatch detected for input:\\n{input_data}\")\n",
    "        print(f\"A.exe Output: {output_A}\")\n",
    "        print(f\"B.exe Output: {output_B}\")\n",
    "        with open(\"errors.txt\", \"a\") as f:\n",
    "            f.write(f\"Input:\\n{input_data}\\n\")\n",
    "            f.write(f\"A.exe Output:\\n{output_A}\\n\")\n",
    "            f.write(f\"B.exe Output:\\n{output_B}\\n\\n\")\n",
    "        raise Exception(\"Catch BUG\")\n",
    "    else:\n",
    "        print(f\"ans = {output_A}\")\n",
    "\n",
    "# 单线程执行程序，捕获和保存错误数据\n",
    "def single_thread_execution(programs, num_tests=10):\n",
    "    count = 0\n",
    "    while count < num_tests:\n",
    "        # 通过外部程序 C 生成输入数据\n",
    "        input_data = generate_input_from_C()\n",
    "        try:\n",
    "        # 运行 A.exe 和 B.exe，将 C.exe 的输出作为标准输入传递\n",
    "            output_A = run_program(programs[0], input_data)\n",
    "            output_B = run_program(programs[1], input_data)\n",
    "        except:\n",
    "            print(input_data)\n",
    "            break\n",
    "        # 比较并保存输出\n",
    "        compare_and_save_outputs(input_data, output_A, output_B)\n",
    "\n",
    "        count += 1\n",
    "        print(str(count)+\" times\")\n",
    "\n",
    "if __name__ == \"__main__\":\n",
    "    current_dir = Path('.')\n",
    "    exe_path = Path('release.exe')\n",
    "    programs = [f.name / exe_path for f in current_dir.iterdir() if (f.is_dir() and f.name!='G')]\n",
    "    if len(programs) != 2:\n",
    "        raise Exception(\"programs != 2\")\n",
    "    single_thread_execution(programs, num_tests=1000)  # 启动 10 个测试用例\n"
   ]
  },
  {
   "cell_type": "code",
   "execution_count": null,
   "metadata": {},
   "outputs": [],
   "source": []
  }
 ],
 "metadata": {
  "kernelspec": {
   "display_name": "torch-GPU",
   "language": "python",
   "name": "python3"
  },
  "language_info": {
   "codemirror_mode": {
    "name": "ipython",
    "version": 3
   },
   "file_extension": ".py",
   "mimetype": "text/x-python",
   "name": "python",
   "nbconvert_exporter": "python",
   "pygments_lexer": "ipython3",
   "version": "3.9.21"
  }
 },
 "nbformat": 4,
 "nbformat_minor": 2
}
