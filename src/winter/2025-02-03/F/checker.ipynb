{
 "cells": [
  {
   "cell_type": "code",
   "execution_count": 3,
   "metadata": {},
   "outputs": [
    {
     "name": "stdout",
     "output_type": "stream",
     "text": [
      "hello world\n"
     ]
    },
    {
     "ename": "Exception",
     "evalue": "BUGS!",
     "output_type": "error",
     "traceback": [
      "\u001b[0;31m---------------------------------------------------------------------------\u001b[0m",
      "\u001b[0;31mException\u001b[0m                                 Traceback (most recent call last)",
      "Cell \u001b[0;32mIn[3], line 36\u001b[0m\n\u001b[1;32m     34\u001b[0m     \u001b[38;5;28;01melse\u001b[39;00m:\n\u001b[1;32m     35\u001b[0m         \u001b[38;5;28mprint\u001b[39m(\u001b[38;5;124m\"\u001b[39m\u001b[38;5;124mhello world\u001b[39m\u001b[38;5;124m\"\u001b[39m)\n\u001b[0;32m---> 36\u001b[0m         \u001b[38;5;28;01mraise\u001b[39;00m \u001b[38;5;167;01mException\u001b[39;00m(\u001b[38;5;124m\"\u001b[39m\u001b[38;5;124mBUGS!\u001b[39m\u001b[38;5;124m\"\u001b[39m)\n\u001b[1;32m     37\u001b[0m \u001b[38;5;28;01melse\u001b[39;00m:\n\u001b[1;32m     38\u001b[0m     l \u001b[38;5;241m=\u001b[39m \u001b[38;5;28mint\u001b[39m(result[\u001b[38;5;241m1\u001b[39m])\n",
      "\u001b[0;31mException\u001b[0m: BUGS!"
     ]
    }
   ],
   "source": [
    "import random\n",
    "import subprocess\n",
    "n = random.randint(1, 10)\n",
    "n_list = [i for i in range(n)]\n",
    "random.shuffle(n_list)\n",
    "cpp_executable_path = \"/home/laceprndpm/acm/src/winter/2025-02-03/F/F.test\"\n",
    "cpp_process = subprocess.Popen(cpp_executable_path, \n",
    "                               stdin=subprocess.PIPE, \n",
    "                               stdout=subprocess.PIPE, \n",
    "                               text=True, \n",
    "                               bufsize=1)\n",
    "def read_output():\n",
    "    return cpp_process.stdout.readline().strip().split()\n",
    "\n",
    "def send_input(input_str):\n",
    "    cpp_process.stdin.write(input_str + '\\n')\n",
    "    cpp_process.stdin.flush()\n",
    "\n",
    "def find_second(n_list, l, r):\n",
    "    numbers = n_list[l - 1 : r]\n",
    "    max_index = numbers.index(max(numbers))\n",
    "    del numbers[max_index]\n",
    "    second_max_index = numbers.index(max(numbers))\n",
    "    return second_max_index + l + 1\n",
    "\n",
    "send_input(str(n))\n",
    "max_value = max(n_list)\n",
    "max_index = n_list.index(max_value) + 1\n",
    "while(True):\n",
    "    result = read_output()\n",
    "    if (result[0] == '!'):\n",
    "        if (int(result[1]) == max_index):\n",
    "            break\n",
    "        else:\n",
    "            print(\"hello world\")\n",
    "            raise Exception(\"BUGS!\")\n",
    "    else:\n",
    "        l = int(result[1])\n",
    "        r = int(result[2])\n",
    "        out = find_second(n_list, l, r)\n",
    "        send_input(str(out))"
   ]
  },
  {
   "cell_type": "code",
   "execution_count": 10,
   "metadata": {},
   "outputs": [],
   "source": [
    "import random\n",
    "n = random.randint(1, 10)\n",
    "n_list = [i for i in range(n)]\n",
    "random.shuffle(n_list)"
   ]
  },
  {
   "cell_type": "code",
   "execution_count": 11,
   "metadata": {},
   "outputs": [
    {
     "data": {
      "text/plain": [
       "4"
      ]
     },
     "execution_count": 11,
     "metadata": {},
     "output_type": "execute_result"
    }
   ],
   "source": [
    "n"
   ]
  },
  {
   "cell_type": "code",
   "execution_count": 12,
   "metadata": {},
   "outputs": [
    {
     "data": {
      "text/plain": [
       "[3, 1, 0, 2]"
      ]
     },
     "execution_count": 12,
     "metadata": {},
     "output_type": "execute_result"
    }
   ],
   "source": [
    "n_list"
   ]
  },
  {
   "cell_type": "code",
   "execution_count": null,
   "metadata": {},
   "outputs": [],
   "source": []
  }
 ],
 "metadata": {
  "kernelspec": {
   "display_name": "codeforce",
   "language": "python",
   "name": "python3"
  },
  "language_info": {
   "codemirror_mode": {
    "name": "ipython",
    "version": 3
   },
   "file_extension": ".py",
   "mimetype": "text/x-python",
   "name": "python",
   "nbconvert_exporter": "python",
   "pygments_lexer": "ipython3",
   "version": "3.8.10"
  }
 },
 "nbformat": 4,
 "nbformat_minor": 2
}
