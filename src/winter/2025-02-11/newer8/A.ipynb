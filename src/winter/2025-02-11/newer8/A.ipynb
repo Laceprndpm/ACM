{
 "cells": [
  {
   "cell_type": "code",
   "execution_count": null,
   "metadata": {},
   "outputs": [
    {
     "name": "stdout",
     "output_type": "stream",
     "text": [
      "1+1*11*0\n",
      "1\n"
     ]
    }
   ],
   "source": [
    "import subprocess\n",
    "input_str = input()\n",
    "ans = 0\n",
    "intput_arr = input_str.split(\"+\")\n",
    "for i in range(len(input_str)):\n",
    "    last_char = input_str[-1]\n",
    "    input_str = last_char + input_str[:-1]\n",
    "    try:\n",
    "        if(input_str[0]=='+'):\n",
    "            num = 0\n",
    "        else:\n",
    "            num = eval(input_str) % int(1e9 + 7)\n",
    "            print(input_str)\n",
    "    except:\n",
    "        num = 0\n",
    "    ans = ans + num\n",
    "    ans = ans % int(1e9 + 7)\n",
    "ans = (ans + int(1e9 + 7)) % int(1e9 + 7)\n",
    "print(int(ans))"
   ]
  },
  {
   "cell_type": "code",
   "execution_count": null,
   "metadata": {},
   "outputs": [],
   "source": [
    "import subprocess\n",
    "\n",
    "ps_script = '$result = 4 * 5;$result'\n",
    "\n",
    "process = subprocess.Popen(['powershell', '-Command', ps_script], stdout=subprocess.PIPE, stderr=subprocess.PIPE)\n",
    "\n",
    "output, errors = process.communicate()"
   ]
  }
 ],
 "metadata": {
  "kernelspec": {
   "display_name": "codeforce",
   "language": "python",
   "name": "python3"
  },
  "language_info": {
   "codemirror_mode": {
    "name": "ipython",
    "version": 3
   },
   "file_extension": ".py",
   "mimetype": "text/x-python",
   "name": "python",
   "nbconvert_exporter": "python",
   "pygments_lexer": "ipython3",
   "version": "3.8.10"
  }
 },
 "nbformat": 4,
 "nbformat_minor": 2
}
