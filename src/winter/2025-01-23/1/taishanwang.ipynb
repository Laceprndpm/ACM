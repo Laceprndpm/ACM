{
 "cells": [
  {
   "cell_type": "code",
   "execution_count": 11,
   "metadata": {},
   "outputs": [
    {
     "name": "stdout",
     "output_type": "stream",
     "text": [
      "0.5\n"
     ]
    }
   ],
   "source": [
    "n = int(input())\n",
    "if (n != 1):\n",
    "    x1, y1 = 0, 0\n",
    "    x2, y2 = 0.5 * (n - 1), n\n",
    "    x_c = 0.5 * n\n",
    "    x_mid = (x1 + x2) / 2\n",
    "    y_mid = (y1 + y2) / 2\n",
    "    k1 = (y2 - y1) / (x2 - x1)\n",
    "    k2 = -1 / k1\n",
    "    # y = -k2(x - x_mid) + y_mid\n",
    "    y_c = k2 * (x_c - x_mid) + y_mid\n",
    "    r_2 = y_c ** 2 + x_c ** 2\n",
    "    print(r_2)\n",
    "else:\n",
    "    print(0.500)"
   ]
  },
  {
   "cell_type": "code",
   "execution_count": null,
   "metadata": {},
   "outputs": [],
   "source": []
  }
 ],
 "metadata": {
  "kernelspec": {
   "display_name": "codeforce",
   "language": "python",
   "name": "python3"
  },
  "language_info": {
   "codemirror_mode": {
    "name": "ipython",
    "version": 3
   },
   "file_extension": ".py",
   "mimetype": "text/x-python",
   "name": "python",
   "nbconvert_exporter": "python",
   "pygments_lexer": "ipython3",
   "version": "3.8.10"
  }
 },
 "nbformat": 4,
 "nbformat_minor": 2
}
