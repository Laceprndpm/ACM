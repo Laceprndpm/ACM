{
 "cells": [
  {
   "cell_type": "markdown",
   "metadata": {},
   "source": []
  },
  {
   "cell_type": "code",
   "execution_count": 22,
   "metadata": {},
   "outputs": [
    {
     "ename": "Exception",
     "evalue": "BUG",
     "output_type": "error",
     "traceback": [
      "\u001b[0;31m---------------------------------------------------------------------------\u001b[0m",
      "\u001b[0;31mException\u001b[0m                                 Traceback (most recent call last)",
      "Cell \u001b[0;32mIn[22], line 35\u001b[0m\n\u001b[1;32m     33\u001b[0m \u001b[38;5;28;01mfor\u001b[39;00m idx, \u001b[38;5;28miter\u001b[39m \u001b[38;5;129;01min\u001b[39;00m \u001b[38;5;28menumerate\u001b[39m(programs):\n\u001b[1;32m     34\u001b[0m     subprocess\u001b[38;5;241m.\u001b[39mrun([\u001b[38;5;28miter\u001b[39m, \u001b[38;5;28minput\u001b[39m, \u001b[38;5;28mstr\u001b[39m(idx) \u001b[38;5;241m+\u001b[39m \u001b[38;5;124m'\u001b[39m\u001b[38;5;124m.out\u001b[39m\u001b[38;5;124m'\u001b[39m])\n\u001b[0;32m---> 35\u001b[0m \u001b[43mcompareAll\u001b[49m\u001b[43m(\u001b[49m\u001b[38;5;28;43mlen\u001b[39;49m\u001b[43m(\u001b[49m\u001b[43mprograms\u001b[49m\u001b[43m)\u001b[49m\u001b[43m)\u001b[49m\n\u001b[1;32m     36\u001b[0m times \u001b[38;5;241m+\u001b[39m\u001b[38;5;241m=\u001b[39m \u001b[38;5;241m1\u001b[39m\n\u001b[1;32m     37\u001b[0m \u001b[38;5;28;01mif\u001b[39;00m (times \u001b[38;5;241m%\u001b[39m\u001b[38;5;241m100\u001b[39m \u001b[38;5;241m==\u001b[39m \u001b[38;5;241m0\u001b[39m):\n",
      "Cell \u001b[0;32mIn[22], line 27\u001b[0m, in \u001b[0;36mcompareAll\u001b[0;34m(num)\u001b[0m\n\u001b[1;32m     25\u001b[0m result \u001b[38;5;241m=\u001b[39m subprocess\u001b[38;5;241m.\u001b[39mrun([\u001b[38;5;124m'\u001b[39m\u001b[38;5;124mdiff\u001b[39m\u001b[38;5;124m'\u001b[39m, \u001b[38;5;124m'\u001b[39m\u001b[38;5;124m-wb\u001b[39m\u001b[38;5;124m'\u001b[39m, \u001b[38;5;28mstr\u001b[39m(i) \u001b[38;5;241m+\u001b[39m \u001b[38;5;124m'\u001b[39m\u001b[38;5;124m.out\u001b[39m\u001b[38;5;124m'\u001b[39m, \u001b[38;5;28mstr\u001b[39m(i\u001b[38;5;241m+\u001b[39m\u001b[38;5;241m1\u001b[39m) \u001b[38;5;241m+\u001b[39m \u001b[38;5;124m'\u001b[39m\u001b[38;5;124m.out\u001b[39m\u001b[38;5;124m'\u001b[39m], capture_output\u001b[38;5;241m=\u001b[39m\u001b[38;5;28;01mTrue\u001b[39;00m, text\u001b[38;5;241m=\u001b[39m\u001b[38;5;28;01mTrue\u001b[39;00m)\n\u001b[1;32m     26\u001b[0m \u001b[38;5;28;01mif\u001b[39;00m result\u001b[38;5;241m.\u001b[39mreturncode \u001b[38;5;241m!=\u001b[39m \u001b[38;5;241m0\u001b[39m:\n\u001b[0;32m---> 27\u001b[0m     \u001b[38;5;28;01mraise\u001b[39;00m \u001b[38;5;167;01mException\u001b[39;00m(\u001b[38;5;124m\"\u001b[39m\u001b[38;5;124mBUG\u001b[39m\u001b[38;5;124m\"\u001b[39m)\n",
      "\u001b[0;31mException\u001b[0m: BUG"
     ]
    }
   ],
   "source": [
    "import random\n",
    "import subprocess\n",
    "programs = [\n",
    "            \"/home/laceprndpm/acm/src/winter/2025-02-04/C/C.test\",\n",
    "            # \"/home/laceprndpm/acm/src/winter/2025-02-01/C/C.test\",\n",
    "            # \"/home/laceprndpm/acm/src/winter/2025-02-01/C/C_force.test\",\n",
    "            # \"/home/laceprndpm/acm/src/winter/2025-02-01/C/new_force.test\",\n",
    "            # \"/home/laceprndpm/acm/src/winter/2025-02-01/C/mapset.test\"\n",
    "            \"/home/laceprndpm/acm/src/winter/2025-02-04/C/C1.test\"\n",
    "            ]\n",
    "input = \"test.in\"\n",
    "def generateInput(input):\n",
    "    with open(input, \"w\") as file:\n",
    "        m = random.randint(1, 5e2)\n",
    "        k = random.randint(1, 1e9)\n",
    "        print(m, k, file=file, sep=' ')\n",
    "        print(*[random.randint(1, 1e9) for _ in range(m)], sep=' ', file=file)\n",
    "        n = random.randint(1, 5e2)\n",
    "        print(n, file=file)\n",
    "        print(*[random.randint(1, 1e9) for _ in range(n)], sep=' ', file=file)\n",
    "\n",
    "\n",
    "def compareAll(num):\n",
    "    for i in range(num - 1):\n",
    "        result = subprocess.run(['diff', '-wb', str(i) + '.out', str(i+1) + '.out'], capture_output=True, text=True)\n",
    "        if result.returncode != 0:\n",
    "            raise Exception(\"BUG\")\n",
    "\n",
    "times = 0\n",
    "while(True):\n",
    "    # generateInput(input)\n",
    "    # subprocess.run([\"/home/laceprndpm/acm/src/winter/2025-02-04/C/gene.test\"])\n",
    "    for idx, iter in enumerate(programs):\n",
    "        subprocess.run([iter, input, str(idx) + '.out'])\n",
    "    compareAll(len(programs))\n",
    "    times += 1\n",
    "    if (times %100 == 0):\n",
    "        print(str(times/100) + \"x100\")\n",
    "    break"
   ]
  },
  {
   "cell_type": "code",
   "execution_count": null,
   "metadata": {},
   "outputs": [],
   "source": []
  }
 ],
 "metadata": {
  "kernelspec": {
   "display_name": "codeforce",
   "language": "python",
   "name": "python3"
  },
  "language_info": {
   "codemirror_mode": {
    "name": "ipython",
    "version": 3
   },
   "file_extension": ".py",
   "mimetype": "text/x-python",
   "name": "python",
   "nbconvert_exporter": "python",
   "pygments_lexer": "ipython3",
   "version": "3.8.10"
  }
 },
 "nbformat": 4,
 "nbformat_minor": 2
}
